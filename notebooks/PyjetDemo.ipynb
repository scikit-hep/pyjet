{
 "cells": [
  {
   "cell_type": "markdown",
   "metadata": {},
   "source": [
    "# **`pyjet` package demo**"
   ]
  },
  {
   "cell_type": "markdown",
   "metadata": {},
   "source": [
    "This demo assumes that you have run `python -m pip install pyjet`. The demo uses Python 3, though the package also supports Python 2 for now."
   ]
  },
  {
   "cell_type": "markdown",
   "metadata": {},
   "source": [
    "## Example/demo event sample"
   ]
  },
  {
   "cell_type": "markdown",
   "metadata": {},
   "source": [
    "The package contains a data sample for example purposes. The file lies under the `examples/` directory.\n",
    "It is the sample (single-)event shipped with FastJet, with E moved to the first column.\n",
    "The event format is `dtype=np.dtype([('E', 'f8'), ('px', 'f8'), ('py', 'f8'), ('pz', 'f8')])`.\n",
    "\n",
    "All particles - hereby called the *event* - are handily retrieved as follows:"
   ]
  },
  {
   "cell_type": "code",
   "execution_count": 1,
   "metadata": {},
   "outputs": [
    {
     "name": "stdout",
     "output_type": "stream",
     "text": [
      "Event with 354 particles\n"
     ]
    }
   ],
   "source": [
    "from pyjet.testdata import get_event\n",
    "\n",
    "event = get_event()\n",
    "\n",
    "print('Event with {} particles'.format(len(event)))"
   ]
  },
  {
   "cell_type": "markdown",
   "metadata": {},
   "source": [
    "## Basic usage"
   ]
  },
  {
   "cell_type": "markdown",
   "metadata": {},
   "source": [
    "Perform the clustering, i.e. jet finding: `pyjet` provides as main API the `cluster()` function to make it easy to run the jet finder with reasonable default settings (see later for how to explicitly managed everything via dedicated classes)."
   ]
  },
  {
   "cell_type": "code",
   "execution_count": 2,
   "metadata": {},
   "outputs": [
    {
     "name": "stdout",
     "output_type": "stream",
     "text": [
      "# of jets: 91\n"
     ]
    }
   ],
   "source": [
    "from pyjet import cluster\n",
    "\n",
    "sequence = cluster(event, R=0.6, p=-1)\n",
    "\n",
    "jets = sequence.inclusive_jets()  # list of PseudoJets\n",
    "\n",
    "print('# of jets: {}'.format(len(jets)))"
   ]
  },
  {
   "cell_type": "markdown",
   "metadata": {},
   "source": [
    "Print basic information as a demonstration of functionality:"
   ]
  },
  {
   "cell_type": "code",
   "execution_count": 3,
   "metadata": {},
   "outputs": [
    {
     "name": "stdout",
     "output_type": "stream",
     "text": [
      "jet#          pT        eta        phi       mass  #constit.\n",
      "1        983.280     -0.868      2.905     36.457         34\n",
      "2        901.745      0.221     -0.252     51.850         34\n",
      "3         67.994     -1.194     -0.200     11.984         32\n",
      "4         12.465      0.433      0.673      5.461         13\n",
      "5          6.568     -2.629      1.133      2.099          9\n",
      "6          6.498     -1.828     -2.248      3.309          6\n"
     ]
    }
   ],
   "source": [
    "print(\"{0: <5} {1: >10} {2: >10} {3: >10} {4: >10} {5: >10}\".format(\n",
    "    \"jet#\", \"pT\", \"eta\", \"phi\", \"mass\", \"#constit.\"))\n",
    "for i, jet in enumerate(jets[:6]):\n",
    "    print(\"{0: <5} {1: 10.3f} {2: 10.3f} {3: 10.3f} {4: 10.3f} {5: 10}\".format(\n",
    "        i + 1, jet.pt, jet.eta, jet.phi, jet.mass, len(jet)))"
   ]
  },
  {
   "cell_type": "markdown",
   "metadata": {},
   "source": [
    "The 6th jet has the following constituents:"
   ]
  },
  {
   "cell_type": "code",
   "execution_count": 4,
   "metadata": {},
   "outputs": [
    {
     "name": "stdout",
     "output_type": "stream",
     "text": [
      "PseudoJet(pt=0.096, eta=-2.166, phi=-2.271, mass=0.000)\n",
      "PseudoJet(pt=2.200, eta=-1.747, phi=-1.972, mass=0.140)\n",
      "PseudoJet(pt=1.713, eta=-2.037, phi=-2.469, mass=0.940)\n",
      "PseudoJet(pt=0.263, eta=-1.682, phi=-2.564, mass=0.140)\n",
      "PseudoJet(pt=1.478, eta=-1.738, phi=-2.343, mass=0.940)\n",
      "PseudoJet(pt=0.894, eta=-1.527, phi=-2.250, mass=0.140)\n"
     ]
    }
   ],
   "source": [
    "for constit in jets[5]:\n",
    "    print(constit)"
   ]
  },
  {
   "cell_type": "markdown",
   "metadata": {},
   "source": [
    "Get the constituents as an array (pT, eta, phi, mass),"
   ]
  },
  {
   "cell_type": "code",
   "execution_count": 5,
   "metadata": {},
   "outputs": [
    {
     "name": "stdout",
     "output_type": "stream",
     "text": [
      "[(0.09551261, -2.16560157, -2.27109083, 4.8909123e-06)\n",
      " (2.19975694, -1.74672746, -1.97178728, 1.3957000e-01)\n",
      " (1.71301882, -2.03656511, -2.46861524, 9.3957000e-01)\n",
      " (0.26339374, -1.68243005, -2.56397904, 1.3957000e-01)\n",
      " (1.47781519, -1.7378898 , -2.34304346, 9.3957000e-01)\n",
      " (0.89353864, -1.52729244, -2.24973202, 1.3957000e-01)]\n"
     ]
    }
   ],
   "source": [
    "print(jets[5].constituents_array())"
   ]
  },
  {
   "cell_type": "markdown",
   "metadata": {},
   "source": [
    "... or as an array (E, px, py, pz),"
   ]
  },
  {
   "cell_type": "code",
   "execution_count": 6,
   "metadata": {},
   "outputs": [
    {
     "name": "stdout",
     "output_type": "stream",
     "text": [
      "[(0.42190436, -0.06155242, -0.07303395, -0.41095089)\n",
      " (6.50193926, -0.85863306, -2.02526044, -6.11692764)\n",
      " (6.74203628, -1.33952806, -1.06775374, -6.45273802)\n",
      " (0.74600384, -0.22066287, -0.1438199 , -0.68386087)\n",
      " (4.43164941, -1.0311407 , -1.05862485, -4.07096881)\n",
      " (2.15920027, -0.56111108, -0.69538886, -1.96067711)]\n"
     ]
    }
   ],
   "source": [
    "print(jets[5].constituents_array(ep=True))"
   ]
  },
  {
   "cell_type": "markdown",
   "metadata": {},
   "source": [
    "## Jet substructure with exclusive jets\n",
    "\n",
    "Reclustering the constituents of the hardest jet with the kt algorithm:"
   ]
  },
  {
   "cell_type": "code",
   "execution_count": 7,
   "metadata": {},
   "outputs": [
    {
     "name": "stdout",
     "output_type": "stream",
     "text": [
      "[PseudoJet(pt=983.280, eta=-0.868, phi=2.905, mass=36.457)]\n"
     ]
    }
   ],
   "source": [
    "cs2 = cluster(jets[0].constituents_array(), R=0.6, p=1)\n",
    "print(cs2.inclusive_jets())"
   ]
  },
  {
   "cell_type": "markdown",
   "metadata": {},
   "source": [
    "Go back in the clustering sequence to when there were two jets:"
   ]
  },
  {
   "cell_type": "code",
   "execution_count": 8,
   "metadata": {},
   "outputs": [
    {
     "name": "stdout",
     "output_type": "stream",
     "text": [
      "PseudoJet(pt=946.493, eta=-0.870, phi=2.908, mass=20.117)\n",
      "PseudoJet(pt=36.921, eta=-0.800, phi=2.821, mass=4.119)\n"
     ]
    }
   ],
   "source": [
    "for subj in cs2.exclusive_jets(2):\n",
    "    print(subj)"
   ]
  },
  {
   "cell_type": "markdown",
   "metadata": {},
   "source": [
    "Ask how many jets there are with a given dcut:"
   ]
  },
  {
   "cell_type": "code",
   "execution_count": 9,
   "metadata": {},
   "outputs": [
    {
     "name": "stdout",
     "output_type": "stream",
     "text": [
      "There are 9 jets with a dcut of 0.5\n"
     ]
    }
   ],
   "source": [
    "dcut = 0.5\n",
    "\n",
    "njets = cs2.n_exclusive_jets(dcut)\n",
    "print(\"There are {0} jets with a dcut of {1}\".format(njets, dcut))"
   ]
  },
  {
   "cell_type": "markdown",
   "metadata": {},
   "source": [
    "Get the jets with the given dcut:"
   ]
  },
  {
   "cell_type": "code",
   "execution_count": 10,
   "metadata": {},
   "outputs": [
    {
     "name": "stdout",
     "output_type": "stream",
     "text": [
      "1 PseudoJet(pt=308.478, eta=-0.865, phi=2.908, mass=2.119)\n",
      "2 PseudoJet(pt=256.731, eta=-0.868, phi=2.906, mass=0.140)\n",
      "3 PseudoJet(pt=142.326, eta=-0.886, phi=2.912, mass=0.829)\n",
      "4 PseudoJet(pt=135.971, eta=-0.870, phi=2.910, mass=0.140)\n",
      "5 PseudoJet(pt=91.084, eta=-0.864, phi=2.899, mass=1.530)\n",
      "6 PseudoJet(pt=30.970, eta=-0.831, phi=2.822, mass=2.124)\n",
      "7 PseudoJet(pt=7.123, eta=-0.954, phi=2.939, mass=1.017)\n",
      "8 PseudoJet(pt=5.951, eta=-0.626, phi=2.818, mass=0.748)\n",
      "9 PseudoJet(pt=4.829, eta=-0.812, phi=3.037, mass=0.384)\n"
     ]
    }
   ],
   "source": [
    "ejets_dcut = cs2.exclusive_jets_dcut(dcut)\n",
    "\n",
    "for i, jet in enumerate(ejets_dcut):\n",
    "    print(i + 1, jet)"
   ]
  },
  {
   "cell_type": "markdown",
   "metadata": {},
   "source": [
    "## Basic package classes"
   ]
  },
  {
   "cell_type": "code",
   "execution_count": 11,
   "metadata": {},
   "outputs": [],
   "source": [
    "from pyjet import PseudoJet, JetDefinition, ClusterSequence, ClusterSequenceArea"
   ]
  },
  {
   "cell_type": "markdown",
   "metadata": {},
   "source": [
    "Note that these classes are not automatically available via a `from pyjet import *`.\n",
    "As such, much of their functionality available in FastJet isn't exposed on the Python side for now."
   ]
  },
  {
   "cell_type": "markdown",
   "metadata": {},
   "source": [
    "### `PseudoJet` class"
   ]
  },
  {
   "cell_type": "code",
   "execution_count": 12,
   "metadata": {},
   "outputs": [
    {
     "data": {
      "text/plain": [
       "PseudoJet(pt=983.280, eta=-0.868, phi=2.905, mass=36.457)"
      ]
     },
     "execution_count": 12,
     "metadata": {},
     "output_type": "execute_result"
    }
   ],
   "source": [
    "jets[0]"
   ]
  },
  {
   "cell_type": "code",
   "execution_count": 13,
   "metadata": {},
   "outputs": [
    {
     "data": {
      "text/plain": [
       "34"
      ]
     },
     "execution_count": 13,
     "metadata": {},
     "output_type": "execute_result"
    }
   ],
   "source": [
    "len(jets[0].constituents())"
   ]
  },
  {
   "cell_type": "markdown",
   "metadata": {},
   "source": [
    "### `JetDefinition` class\n",
    "- `algo`: name of the jet algorithm to use\n",
    "- `R`: jet finding resolution parameter"
   ]
  },
  {
   "cell_type": "code",
   "execution_count": 14,
   "metadata": {},
   "outputs": [
    {
     "data": {
      "text/plain": [
       "<_libpyjet.JetDefinition at 0x7fbb8010bcd8>"
      ]
     },
     "execution_count": 14,
     "metadata": {},
     "output_type": "execute_result"
    }
   ],
   "source": [
    "algorithm = 'antikt'\n",
    "R = 0.5\n",
    "\n",
    "jet_def = JetDefinition(algo = algorithm, R = R)\n",
    "jet_def"
   ]
  },
  {
   "cell_type": "markdown",
   "metadata": {},
   "source": [
    "## Clustering in full control\n",
    "\n",
    "The `cluster()` function wraps all steps for convenience but it is nevertheless possible to specify and run all steps explicitly."
   ]
  },
  {
   "cell_type": "markdown",
   "metadata": {},
   "source": [
    "Create an event with 3 particles:"
   ]
  },
  {
   "cell_type": "code",
   "execution_count": 15,
   "metadata": {},
   "outputs": [
    {
     "data": {
      "text/plain": [
       "array([(100.,  99.,  0.1, 0.), (  5.,   4., -0.1, 0.),\n",
       "       ( 99., -99.,  0. , 0.)],\n",
       "      dtype=[('E', '<f8'), ('px', '<f8'), ('py', '<f8'), ('pz', '<f8')])"
      ]
     },
     "execution_count": 15,
     "metadata": {},
     "output_type": "execute_result"
    }
   ],
   "source": [
    "import numpy as np\n",
    "from pyjet import DTYPE_EP\n",
    "\n",
    "particles = np.array([(100., 99., 0.1, 0.), (5., 4., -0.1, 0.), (99., -99.0, 0., 0.)], dtype=DTYPE_EP)\n",
    "particles"
   ]
  },
  {
   "cell_type": "markdown",
   "metadata": {},
   "source": [
    "Choose a jet definition:"
   ]
  },
  {
   "cell_type": "code",
   "execution_count": 16,
   "metadata": {},
   "outputs": [
    {
     "data": {
      "text/plain": [
       "<_libpyjet.JetDefinition at 0x7fbb8010be28>"
      ]
     },
     "execution_count": 16,
     "metadata": {},
     "output_type": "execute_result"
    }
   ],
   "source": [
    "algorithm = 'antikt'\n",
    "R = 0.7\n",
    "\n",
    "jet_def = JetDefinition(algo = algorithm, R = R)\n",
    "jet_def"
   ]
  },
  {
   "cell_type": "markdown",
   "metadata": {},
   "source": [
    "Run the clustering:"
   ]
  },
  {
   "cell_type": "code",
   "execution_count": 17,
   "metadata": {},
   "outputs": [
    {
     "data": {
      "text/plain": [
       "<_libpyjet.ClusterSequence at 0x7fbb71cc0d50>"
      ]
     },
     "execution_count": 17,
     "metadata": {},
     "output_type": "execute_result"
    }
   ],
   "source": [
    "cs = ClusterSequence(particles, jet_def, ep=True)\n",
    "cs"
   ]
  },
  {
   "cell_type": "markdown",
   "metadata": {},
   "source": [
    "Extract the jets:"
   ]
  },
  {
   "cell_type": "code",
   "execution_count": 18,
   "metadata": {},
   "outputs": [
    {
     "data": {
      "text/plain": [
       "[PseudoJet(pt=103.000, eta=0.000, phi=0.000, mass=20.396),\n",
       " PseudoJet(pt=99.000, eta=0.000, phi=3.142, mass=0.000)]"
      ]
     },
     "execution_count": 18,
     "metadata": {},
     "output_type": "execute_result"
    }
   ],
   "source": [
    "jets = cs.inclusive_jets()\n",
    "jets"
   ]
  },
  {
   "cell_type": "markdown",
   "metadata": {},
   "source": [
    "Print the jets:"
   ]
  },
  {
   "cell_type": "code",
   "execution_count": 19,
   "metadata": {},
   "outputs": [
    {
     "name": "stdout",
     "output_type": "stream",
     "text": [
      "          pt eta phi\n",
      "jet 0: 103.0 0.0 0.0\n",
      "    constituent 0's pt: 99.00005050503762\n",
      "    constituent 1's pt: 4.001249804748512\n",
      "jet 1: 99.0 0.0 3.141592653589793\n",
      "    constituent 0's pt: 99.0\n"
     ]
    }
   ],
   "source": [
    "print(\"          pt eta phi\")\n",
    "for i in range(len(jets)):\n",
    "    print(\"jet {i}: {pt} {eta} {phi}\".format(i=i, pt=jets[i].pt, eta=jets[i].eta, phi=jets[i].phi))\n",
    "    constituents = jets[i].constituents()\n",
    "    for j in range(len(constituents)):\n",
    "      print(\"    constituent {j}'s pt: {pt}\".format(j=j, pt=constituents[j].pt))"
   ]
  },
  {
   "cell_type": "markdown",
   "metadata": {},
   "source": [
    "## Dress `PseudoJets` with additional information"
   ]
  },
  {
   "cell_type": "markdown",
   "metadata": {},
   "source": [
    "You can associate arbitrary additional information to each particle and this information can be accessed as attributes of the PseudoJets."
   ]
  },
  {
   "cell_type": "code",
   "execution_count": 20,
   "metadata": {},
   "outputs": [],
   "source": [
    "import numpy as np\n",
    "from numpy.lib.recfunctions import append_fields\n",
    "from numpy.testing import assert_array_equal\n",
    "\n",
    "event = get_event()\n",
    "event = append_fields(event, 'id', data=np.arange(len(event)))\n",
    "\n",
    "sequence = cluster(event, R=0.6, p=-1)\n",
    "jets = sequence.inclusive_jets()"
   ]
  },
  {
   "cell_type": "code",
   "execution_count": 21,
   "metadata": {
    "scrolled": false
   },
   "outputs": [],
   "source": [
    "ids = []\n",
    "for jet in jets:\n",
    "    for constit in jet:\n",
    "        ids.append(constit.id)\n",
    "ids.extend([p.id for p in sequence.unclustered_particles()])"
   ]
  },
  {
   "cell_type": "markdown",
   "metadata": {},
   "source": [
    "Are all particles accounted for?"
   ]
  },
  {
   "cell_type": "code",
   "execution_count": 22,
   "metadata": {},
   "outputs": [],
   "source": [
    "assert_array_equal(sorted(ids), np.arange(len(event)))"
   ]
  }
 ],
 "metadata": {
  "kernelspec": {
   "display_name": "Python 3",
   "language": "python",
   "name": "python3"
  },
  "language_info": {
   "codemirror_mode": {
    "name": "ipython",
    "version": 3
   },
   "file_extension": ".py",
   "mimetype": "text/x-python",
   "name": "python",
   "nbconvert_exporter": "python",
   "pygments_lexer": "ipython3",
   "version": "3.6.5"
  }
 },
 "nbformat": 4,
 "nbformat_minor": 4
}
